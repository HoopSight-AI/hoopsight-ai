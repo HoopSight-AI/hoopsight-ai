{
  "nbformat": 4,
  "nbformat_minor": 0,
  "metadata": {
    "colab": {
      "provenance": []
    },
    "kernelspec": {
      "name": "python3",
      "display_name": "Python 3"
    },
    "language_info": {
      "name": "python"
    }
  },
  "cells": [
    {
      "cell_type": "markdown",
      "source": [
        "Uploading files"
      ],
      "metadata": {
        "id": "7I7aPBL74IUT"
      }
    },
    {
      "cell_type": "code",
      "source": [
        "from google.colab import drive\n",
        "import pandas as pd\n",
        "\n",
        "# Mount Google Drive\n",
        "drive.mount('/content/drive')\n",
        "\n",
        "# Read the .htm file\n",
        "file_path = '/content/drive/MyDrive/cleaned_Data/cleaned_data.htm'  # Replace with your actual file path\n",
        "dfs = pd.read_html(file_path)  # Load tables from the HTML file\n",
        "df = dfs[0]  # Access the first table in the HTML file, if applicable\n",
        "\n",
        "df.head()  # Display the first few rows of the table\n"
      ],
      "metadata": {
        "colab": {
          "base_uri": "https://localhost:8080/",
          "height": 223
        },
        "id": "G-ed-TZkvDWb",
        "outputId": "5582da39-0d5d-4482-8b9c-f1681e5015b3"
      },
      "execution_count": 2,
      "outputs": [
        {
          "output_type": "stream",
          "name": "stdout",
          "text": [
            "Drive already mounted at /content/drive; to attempt to forcibly remount, call drive.mount(\"/content/drive\", force_remount=True).\n"
          ]
        },
        {
          "output_type": "execute_result",
          "data": {
            "text/plain": [
              "                     Name                  Name.1                  Name.2  \\\n",
              "0      parent directory..      parent directory..      parent directory..   \n",
              "1                     abl                     abl                     abl   \n",
              "2                  ast_pp                  ast_pp                  ast_pp   \n",
              "3  average_scoring_margin  average_scoring_margin  average_scoring_margin   \n",
              "4                 blk_pct                 blk_pct                 blk_pct   \n",
              "\n",
              "                                 Last commit message         Last commit date  \n",
              "0                                                NaN                      NaN  \n",
              "1  Created data preprocessing script that address...  2 weeks agoOct 17, 2024  \n",
              "2  Created data preprocessing script that address...  2 weeks agoOct 17, 2024  \n",
              "3  Created data preprocessing script that address...  2 weeks agoOct 17, 2024  \n",
              "4  Created data preprocessing script that address...  2 weeks agoOct 17, 2024  "
            ],
            "text/html": [
              "\n",
              "  <div id=\"df-17f1e487-ca3a-4cfb-b37b-2710888dac49\" class=\"colab-df-container\">\n",
              "    <div>\n",
              "<style scoped>\n",
              "    .dataframe tbody tr th:only-of-type {\n",
              "        vertical-align: middle;\n",
              "    }\n",
              "\n",
              "    .dataframe tbody tr th {\n",
              "        vertical-align: top;\n",
              "    }\n",
              "\n",
              "    .dataframe thead th {\n",
              "        text-align: right;\n",
              "    }\n",
              "</style>\n",
              "<table border=\"1\" class=\"dataframe\">\n",
              "  <thead>\n",
              "    <tr style=\"text-align: right;\">\n",
              "      <th></th>\n",
              "      <th>Name</th>\n",
              "      <th>Name.1</th>\n",
              "      <th>Name.2</th>\n",
              "      <th>Last commit message</th>\n",
              "      <th>Last commit date</th>\n",
              "    </tr>\n",
              "  </thead>\n",
              "  <tbody>\n",
              "    <tr>\n",
              "      <th>0</th>\n",
              "      <td>parent directory..</td>\n",
              "      <td>parent directory..</td>\n",
              "      <td>parent directory..</td>\n",
              "      <td>NaN</td>\n",
              "      <td>NaN</td>\n",
              "    </tr>\n",
              "    <tr>\n",
              "      <th>1</th>\n",
              "      <td>abl</td>\n",
              "      <td>abl</td>\n",
              "      <td>abl</td>\n",
              "      <td>Created data preprocessing script that address...</td>\n",
              "      <td>2 weeks agoOct 17, 2024</td>\n",
              "    </tr>\n",
              "    <tr>\n",
              "      <th>2</th>\n",
              "      <td>ast_pp</td>\n",
              "      <td>ast_pp</td>\n",
              "      <td>ast_pp</td>\n",
              "      <td>Created data preprocessing script that address...</td>\n",
              "      <td>2 weeks agoOct 17, 2024</td>\n",
              "    </tr>\n",
              "    <tr>\n",
              "      <th>3</th>\n",
              "      <td>average_scoring_margin</td>\n",
              "      <td>average_scoring_margin</td>\n",
              "      <td>average_scoring_margin</td>\n",
              "      <td>Created data preprocessing script that address...</td>\n",
              "      <td>2 weeks agoOct 17, 2024</td>\n",
              "    </tr>\n",
              "    <tr>\n",
              "      <th>4</th>\n",
              "      <td>blk_pct</td>\n",
              "      <td>blk_pct</td>\n",
              "      <td>blk_pct</td>\n",
              "      <td>Created data preprocessing script that address...</td>\n",
              "      <td>2 weeks agoOct 17, 2024</td>\n",
              "    </tr>\n",
              "  </tbody>\n",
              "</table>\n",
              "</div>\n",
              "    <div class=\"colab-df-buttons\">\n",
              "\n",
              "  <div class=\"colab-df-container\">\n",
              "    <button class=\"colab-df-convert\" onclick=\"convertToInteractive('df-17f1e487-ca3a-4cfb-b37b-2710888dac49')\"\n",
              "            title=\"Convert this dataframe to an interactive table.\"\n",
              "            style=\"display:none;\">\n",
              "\n",
              "  <svg xmlns=\"http://www.w3.org/2000/svg\" height=\"24px\" viewBox=\"0 -960 960 960\">\n",
              "    <path d=\"M120-120v-720h720v720H120Zm60-500h600v-160H180v160Zm220 220h160v-160H400v160Zm0 220h160v-160H400v160ZM180-400h160v-160H180v160Zm440 0h160v-160H620v160ZM180-180h160v-160H180v160Zm440 0h160v-160H620v160Z\"/>\n",
              "  </svg>\n",
              "    </button>\n",
              "\n",
              "  <style>\n",
              "    .colab-df-container {\n",
              "      display:flex;\n",
              "      gap: 12px;\n",
              "    }\n",
              "\n",
              "    .colab-df-convert {\n",
              "      background-color: #E8F0FE;\n",
              "      border: none;\n",
              "      border-radius: 50%;\n",
              "      cursor: pointer;\n",
              "      display: none;\n",
              "      fill: #1967D2;\n",
              "      height: 32px;\n",
              "      padding: 0 0 0 0;\n",
              "      width: 32px;\n",
              "    }\n",
              "\n",
              "    .colab-df-convert:hover {\n",
              "      background-color: #E2EBFA;\n",
              "      box-shadow: 0px 1px 2px rgba(60, 64, 67, 0.3), 0px 1px 3px 1px rgba(60, 64, 67, 0.15);\n",
              "      fill: #174EA6;\n",
              "    }\n",
              "\n",
              "    .colab-df-buttons div {\n",
              "      margin-bottom: 4px;\n",
              "    }\n",
              "\n",
              "    [theme=dark] .colab-df-convert {\n",
              "      background-color: #3B4455;\n",
              "      fill: #D2E3FC;\n",
              "    }\n",
              "\n",
              "    [theme=dark] .colab-df-convert:hover {\n",
              "      background-color: #434B5C;\n",
              "      box-shadow: 0px 1px 3px 1px rgba(0, 0, 0, 0.15);\n",
              "      filter: drop-shadow(0px 1px 2px rgba(0, 0, 0, 0.3));\n",
              "      fill: #FFFFFF;\n",
              "    }\n",
              "  </style>\n",
              "\n",
              "    <script>\n",
              "      const buttonEl =\n",
              "        document.querySelector('#df-17f1e487-ca3a-4cfb-b37b-2710888dac49 button.colab-df-convert');\n",
              "      buttonEl.style.display =\n",
              "        google.colab.kernel.accessAllowed ? 'block' : 'none';\n",
              "\n",
              "      async function convertToInteractive(key) {\n",
              "        const element = document.querySelector('#df-17f1e487-ca3a-4cfb-b37b-2710888dac49');\n",
              "        const dataTable =\n",
              "          await google.colab.kernel.invokeFunction('convertToInteractive',\n",
              "                                                    [key], {});\n",
              "        if (!dataTable) return;\n",
              "\n",
              "        const docLinkHtml = 'Like what you see? Visit the ' +\n",
              "          '<a target=\"_blank\" href=https://colab.research.google.com/notebooks/data_table.ipynb>data table notebook</a>'\n",
              "          + ' to learn more about interactive tables.';\n",
              "        element.innerHTML = '';\n",
              "        dataTable['output_type'] = 'display_data';\n",
              "        await google.colab.output.renderOutput(dataTable, element);\n",
              "        const docLink = document.createElement('div');\n",
              "        docLink.innerHTML = docLinkHtml;\n",
              "        element.appendChild(docLink);\n",
              "      }\n",
              "    </script>\n",
              "  </div>\n",
              "\n",
              "\n",
              "<div id=\"df-8f2ca677-ae64-407c-b141-a7ba259e6a34\">\n",
              "  <button class=\"colab-df-quickchart\" onclick=\"quickchart('df-8f2ca677-ae64-407c-b141-a7ba259e6a34')\"\n",
              "            title=\"Suggest charts\"\n",
              "            style=\"display:none;\">\n",
              "\n",
              "<svg xmlns=\"http://www.w3.org/2000/svg\" height=\"24px\"viewBox=\"0 0 24 24\"\n",
              "     width=\"24px\">\n",
              "    <g>\n",
              "        <path d=\"M19 3H5c-1.1 0-2 .9-2 2v14c0 1.1.9 2 2 2h14c1.1 0 2-.9 2-2V5c0-1.1-.9-2-2-2zM9 17H7v-7h2v7zm4 0h-2V7h2v10zm4 0h-2v-4h2v4z\"/>\n",
              "    </g>\n",
              "</svg>\n",
              "  </button>\n",
              "\n",
              "<style>\n",
              "  .colab-df-quickchart {\n",
              "      --bg-color: #E8F0FE;\n",
              "      --fill-color: #1967D2;\n",
              "      --hover-bg-color: #E2EBFA;\n",
              "      --hover-fill-color: #174EA6;\n",
              "      --disabled-fill-color: #AAA;\n",
              "      --disabled-bg-color: #DDD;\n",
              "  }\n",
              "\n",
              "  [theme=dark] .colab-df-quickchart {\n",
              "      --bg-color: #3B4455;\n",
              "      --fill-color: #D2E3FC;\n",
              "      --hover-bg-color: #434B5C;\n",
              "      --hover-fill-color: #FFFFFF;\n",
              "      --disabled-bg-color: #3B4455;\n",
              "      --disabled-fill-color: #666;\n",
              "  }\n",
              "\n",
              "  .colab-df-quickchart {\n",
              "    background-color: var(--bg-color);\n",
              "    border: none;\n",
              "    border-radius: 50%;\n",
              "    cursor: pointer;\n",
              "    display: none;\n",
              "    fill: var(--fill-color);\n",
              "    height: 32px;\n",
              "    padding: 0;\n",
              "    width: 32px;\n",
              "  }\n",
              "\n",
              "  .colab-df-quickchart:hover {\n",
              "    background-color: var(--hover-bg-color);\n",
              "    box-shadow: 0 1px 2px rgba(60, 64, 67, 0.3), 0 1px 3px 1px rgba(60, 64, 67, 0.15);\n",
              "    fill: var(--button-hover-fill-color);\n",
              "  }\n",
              "\n",
              "  .colab-df-quickchart-complete:disabled,\n",
              "  .colab-df-quickchart-complete:disabled:hover {\n",
              "    background-color: var(--disabled-bg-color);\n",
              "    fill: var(--disabled-fill-color);\n",
              "    box-shadow: none;\n",
              "  }\n",
              "\n",
              "  .colab-df-spinner {\n",
              "    border: 2px solid var(--fill-color);\n",
              "    border-color: transparent;\n",
              "    border-bottom-color: var(--fill-color);\n",
              "    animation:\n",
              "      spin 1s steps(1) infinite;\n",
              "  }\n",
              "\n",
              "  @keyframes spin {\n",
              "    0% {\n",
              "      border-color: transparent;\n",
              "      border-bottom-color: var(--fill-color);\n",
              "      border-left-color: var(--fill-color);\n",
              "    }\n",
              "    20% {\n",
              "      border-color: transparent;\n",
              "      border-left-color: var(--fill-color);\n",
              "      border-top-color: var(--fill-color);\n",
              "    }\n",
              "    30% {\n",
              "      border-color: transparent;\n",
              "      border-left-color: var(--fill-color);\n",
              "      border-top-color: var(--fill-color);\n",
              "      border-right-color: var(--fill-color);\n",
              "    }\n",
              "    40% {\n",
              "      border-color: transparent;\n",
              "      border-right-color: var(--fill-color);\n",
              "      border-top-color: var(--fill-color);\n",
              "    }\n",
              "    60% {\n",
              "      border-color: transparent;\n",
              "      border-right-color: var(--fill-color);\n",
              "    }\n",
              "    80% {\n",
              "      border-color: transparent;\n",
              "      border-right-color: var(--fill-color);\n",
              "      border-bottom-color: var(--fill-color);\n",
              "    }\n",
              "    90% {\n",
              "      border-color: transparent;\n",
              "      border-bottom-color: var(--fill-color);\n",
              "    }\n",
              "  }\n",
              "</style>\n",
              "\n",
              "  <script>\n",
              "    async function quickchart(key) {\n",
              "      const quickchartButtonEl =\n",
              "        document.querySelector('#' + key + ' button');\n",
              "      quickchartButtonEl.disabled = true;  // To prevent multiple clicks.\n",
              "      quickchartButtonEl.classList.add('colab-df-spinner');\n",
              "      try {\n",
              "        const charts = await google.colab.kernel.invokeFunction(\n",
              "            'suggestCharts', [key], {});\n",
              "      } catch (error) {\n",
              "        console.error('Error during call to suggestCharts:', error);\n",
              "      }\n",
              "      quickchartButtonEl.classList.remove('colab-df-spinner');\n",
              "      quickchartButtonEl.classList.add('colab-df-quickchart-complete');\n",
              "    }\n",
              "    (() => {\n",
              "      let quickchartButtonEl =\n",
              "        document.querySelector('#df-8f2ca677-ae64-407c-b141-a7ba259e6a34 button');\n",
              "      quickchartButtonEl.style.display =\n",
              "        google.colab.kernel.accessAllowed ? 'block' : 'none';\n",
              "    })();\n",
              "  </script>\n",
              "</div>\n",
              "\n",
              "    </div>\n",
              "  </div>\n"
            ],
            "application/vnd.google.colaboratory.intrinsic+json": {
              "type": "dataframe",
              "variable_name": "df",
              "summary": "{\n  \"name\": \"df\",\n  \"rows\": 19,\n  \"fields\": [\n    {\n      \"column\": \"Name\",\n      \"properties\": {\n        \"dtype\": \"string\",\n        \"num_unique_values\": 19,\n        \"samples\": [\n          \"parent directory..\",\n          \"defensive_efficiency\",\n          \"opponent_efg_pct\"\n        ],\n        \"semantic_type\": \"\",\n        \"description\": \"\"\n      }\n    },\n    {\n      \"column\": \"Name.1\",\n      \"properties\": {\n        \"dtype\": \"string\",\n        \"num_unique_values\": 19,\n        \"samples\": [\n          \"parent directory..\",\n          \"defensive_efficiency\",\n          \"opponent_efg_pct\"\n        ],\n        \"semantic_type\": \"\",\n        \"description\": \"\"\n      }\n    },\n    {\n      \"column\": \"Name.2\",\n      \"properties\": {\n        \"dtype\": \"string\",\n        \"num_unique_values\": 19,\n        \"samples\": [\n          \"parent directory..\",\n          \"defensive_efficiency\",\n          \"opponent_efg_pct\"\n        ],\n        \"semantic_type\": \"\",\n        \"description\": \"\"\n      }\n    },\n    {\n      \"column\": \"Last commit message\",\n      \"properties\": {\n        \"dtype\": \"category\",\n        \"num_unique_values\": 1,\n        \"samples\": [\n          \"Created data preprocessing script that addresses outliers and inconsi\\u2026\"\n        ],\n        \"semantic_type\": \"\",\n        \"description\": \"\"\n      }\n    },\n    {\n      \"column\": \"Last commit date\",\n      \"properties\": {\n        \"dtype\": \"category\",\n        \"num_unique_values\": 1,\n        \"samples\": [\n          \"2 weeks agoOct 17, 2024\"\n        ],\n        \"semantic_type\": \"\",\n        \"description\": \"\"\n      }\n    }\n  ]\n}"
            }
          },
          "metadata": {},
          "execution_count": 2
        }
      ]
    },
    {
      "cell_type": "markdown",
      "source": [
        "Visualization: average scoring margin"
      ],
      "metadata": {
        "id": "yqzhg1pNU8te"
      }
    },
    {
      "cell_type": "code",
      "source": [
        "# Import necessary libraries\n",
        "import pandas as pd\n",
        "import seaborn as sns\n",
        "import matplotlib.pyplot as plt\n",
        "import os\n",
        "from google.colab import drive\n",
        "\n",
        "# Mount Google Drive\n",
        "drive.mount('/content/drive')\n",
        "\n",
        "# Define paths for each folder containing the metrics of interest\n",
        "base_path = '/content/drive/MyDrive/cleaned_Data/'  # Replace with your actual path\n",
        "folders = {\n",
        "    'abl': 'abl',\n",
        "    'average_scoring_margin': 'average_scoring_margin',\n",
        "    'defensive_efficiency': 'defensive_efficiency',\n",
        "    'efg_pct': 'efg_pct',\n",
        "    'flr_pct': 'flr_pct',\n",
        "    'opp_flr_pct': 'opp_flr_pct',\n",
        "    'opp_efg_pct': 'opp_efg_pct',\n",
        "    'sht_pct': 'sht_pct',\n",
        "    'tov_pct': 'tov_pct'\n",
        "}\n",
        "\n",
        "# Load data from each folder and compile into a single DataFrame\n",
        "data = {}\n",
        "for metric, folder in folders.items():\n",
        "    path = os.path.join(base_path, folder)\n",
        "    all_files = [os.path.join(path, f) for f in os.listdir(path) if f.endswith('.csv')]\n",
        "\n",
        "    # Read each CSV file and add team name\n",
        "    frames = []\n",
        "    for file in all_files:\n",
        "        df = pd.read_csv(file)\n",
        "        df['Team'] = os.path.basename(file).replace('.csv', '')\n",
        "        df['Metric'] = metric\n",
        "        frames.append(df)\n",
        "    data[metric] = pd.concat(frames, ignore_index=True)\n",
        "\n",
        "# Concatenate all data into one DataFrame\n",
        "full_data = pd.concat(data.values(), ignore_index=True)\n",
        "\n",
        "# Select the metrics of interest for visualization\n",
        "selected_metrics = ['abl', 'average_scoring_margin', 'defensive_efficiency', 'efg_pct', 'flr_pct',\n",
        "                    'opp_flr_pct', 'opp_efg_pct', 'sht_pct', 'tov_pct']\n",
        "subset_data = full_data[full_data['Metric'].isin(selected_metrics)]\n",
        "\n",
        "# Pairplot\n",
        "sns.pairplot(subset_data, hue=\"Metric\", vars=[\"Statistic\"])\n",
        "plt.title(\"Pairplot of Selected Metrics\")\n",
        "plt.show()\n",
        "\n",
        "# Correlation Heatmap\n",
        "pivot_data = subset_data.pivot_table(values='Statistic', index='Year', columns='Metric')\n",
        "corr = pivot_data.corr()\n",
        "sns.heatmap(corr, annot=True, cmap='coolwarm', center=0)\n",
        "plt.title(\"Correlation Heatmap of Selected Metrics\")\n",
        "plt.show()\n",
        "\n",
        "# Violin Plots\n",
        "plt.figure(figsize=(12, 6))\n",
        "sns.violinplot(data=subset_data, x=\"Metric\", y=\"Statistic\", hue=\"Metric\", split=True)\n",
        "plt.xticks(rotation=90)\n",
        "plt.title(\"Violin Plot of Selected Metrics\")\n",
        "plt.show()\n",
        "\n",
        "# KDE Plots\n",
        "plt.figure(figsize=(12, 6))\n",
        "for metric in selected_metrics:\n",
        "    sns.kdeplot(subset_data[subset_data[\"Metric\"] == metric][\"Statistic\"], label=metric, fill=True)\n",
        "plt.legend()\n",
        "plt.title(\"Kernel Density Estimation of Selected Metrics\")\n",
        "plt.show()\n"
      ],
      "metadata": {
        "colab": {
          "base_uri": "https://localhost:8080/",
          "height": 228
        },
        "id": "OuGScZoOxJ81",
        "outputId": "8e4ad825-e0b8-4e37-fa62-0e93901996f2"
      },
      "execution_count": 3,
      "outputs": [
        {
          "output_type": "stream",
          "name": "stdout",
          "text": [
            "Drive already mounted at /content/drive; to attempt to forcibly remount, call drive.mount(\"/content/drive\", force_remount=True).\n"
          ]
        },
        {
          "output_type": "error",
          "ename": "FileNotFoundError",
          "evalue": "[Errno 2] No such file or directory: '/content/drive/MyDrive/cleaned_Data/abl'",
          "traceback": [
            "\u001b[0;31m---------------------------------------------------------------------------\u001b[0m",
            "\u001b[0;31mFileNotFoundError\u001b[0m                         Traceback (most recent call last)",
            "\u001b[0;32m<ipython-input-3-ac76c14d73ec>\u001b[0m in \u001b[0;36m<cell line: 27>\u001b[0;34m()\u001b[0m\n\u001b[1;32m     27\u001b[0m \u001b[0;32mfor\u001b[0m \u001b[0mmetric\u001b[0m\u001b[0;34m,\u001b[0m \u001b[0mfolder\u001b[0m \u001b[0;32min\u001b[0m \u001b[0mfolders\u001b[0m\u001b[0;34m.\u001b[0m\u001b[0mitems\u001b[0m\u001b[0;34m(\u001b[0m\u001b[0;34m)\u001b[0m\u001b[0;34m:\u001b[0m\u001b[0;34m\u001b[0m\u001b[0;34m\u001b[0m\u001b[0m\n\u001b[1;32m     28\u001b[0m     \u001b[0mpath\u001b[0m \u001b[0;34m=\u001b[0m \u001b[0mos\u001b[0m\u001b[0;34m.\u001b[0m\u001b[0mpath\u001b[0m\u001b[0;34m.\u001b[0m\u001b[0mjoin\u001b[0m\u001b[0;34m(\u001b[0m\u001b[0mbase_path\u001b[0m\u001b[0;34m,\u001b[0m \u001b[0mfolder\u001b[0m\u001b[0;34m)\u001b[0m\u001b[0;34m\u001b[0m\u001b[0;34m\u001b[0m\u001b[0m\n\u001b[0;32m---> 29\u001b[0;31m     \u001b[0mall_files\u001b[0m \u001b[0;34m=\u001b[0m \u001b[0;34m[\u001b[0m\u001b[0mos\u001b[0m\u001b[0;34m.\u001b[0m\u001b[0mpath\u001b[0m\u001b[0;34m.\u001b[0m\u001b[0mjoin\u001b[0m\u001b[0;34m(\u001b[0m\u001b[0mpath\u001b[0m\u001b[0;34m,\u001b[0m \u001b[0mf\u001b[0m\u001b[0;34m)\u001b[0m \u001b[0;32mfor\u001b[0m \u001b[0mf\u001b[0m \u001b[0;32min\u001b[0m \u001b[0mos\u001b[0m\u001b[0;34m.\u001b[0m\u001b[0mlistdir\u001b[0m\u001b[0;34m(\u001b[0m\u001b[0mpath\u001b[0m\u001b[0;34m)\u001b[0m \u001b[0;32mif\u001b[0m \u001b[0mf\u001b[0m\u001b[0;34m.\u001b[0m\u001b[0mendswith\u001b[0m\u001b[0;34m(\u001b[0m\u001b[0;34m'.csv'\u001b[0m\u001b[0;34m)\u001b[0m\u001b[0;34m]\u001b[0m\u001b[0;34m\u001b[0m\u001b[0;34m\u001b[0m\u001b[0m\n\u001b[0m\u001b[1;32m     30\u001b[0m \u001b[0;34m\u001b[0m\u001b[0m\n\u001b[1;32m     31\u001b[0m     \u001b[0;31m# Read each CSV file and add team name\u001b[0m\u001b[0;34m\u001b[0m\u001b[0;34m\u001b[0m\u001b[0m\n",
            "\u001b[0;31mFileNotFoundError\u001b[0m: [Errno 2] No such file or directory: '/content/drive/MyDrive/cleaned_Data/abl'"
          ]
        }
      ]
    },
    {
      "cell_type": "markdown",
      "source": [
        "Visualization: Defensive Efficiency"
      ],
      "metadata": {
        "id": "xxPS1vBaVQX8"
      }
    },
    {
      "cell_type": "markdown",
      "source": [
        "Visualization: Effective field goal percentage"
      ],
      "metadata": {
        "id": "dW-XcjhoWyam"
      }
    },
    {
      "cell_type": "code",
      "source": [],
      "metadata": {
        "id": "zudow5tXW3yR"
      },
      "execution_count": null,
      "outputs": []
    },
    {
      "cell_type": "markdown",
      "source": [
        "Visualization: floor percentage"
      ],
      "metadata": {
        "id": "LOvH9G9aW4Q_"
      }
    },
    {
      "cell_type": "code",
      "source": [],
      "metadata": {
        "id": "AFzqFotXXKtF"
      },
      "execution_count": null,
      "outputs": []
    },
    {
      "cell_type": "markdown",
      "source": [
        "Visualization: opponent floor percentage"
      ],
      "metadata": {
        "id": "smfDZ6HqW7ik"
      }
    },
    {
      "cell_type": "code",
      "source": [],
      "metadata": {
        "id": "9wrvPeyHXLEd"
      },
      "execution_count": null,
      "outputs": []
    },
    {
      "cell_type": "markdown",
      "source": [
        "Visualization: opponent efg percentage"
      ],
      "metadata": {
        "id": "i2pp5KriW8sL"
      }
    },
    {
      "cell_type": "code",
      "source": [],
      "metadata": {
        "id": "gVYdTjenXLbd"
      },
      "execution_count": null,
      "outputs": []
    },
    {
      "cell_type": "markdown",
      "source": [
        "Visualization: shooting percentage"
      ],
      "metadata": {
        "id": "WLKmJgd3W9yt"
      }
    },
    {
      "cell_type": "code",
      "source": [],
      "metadata": {
        "id": "UjejQH_9XL0E"
      },
      "execution_count": null,
      "outputs": []
    },
    {
      "cell_type": "markdown",
      "source": [],
      "metadata": {
        "id": "pjdQLphCXM--"
      }
    },
    {
      "cell_type": "markdown",
      "source": [],
      "metadata": {
        "id": "uaI-mKwMXOtT"
      }
    }
  ]
}