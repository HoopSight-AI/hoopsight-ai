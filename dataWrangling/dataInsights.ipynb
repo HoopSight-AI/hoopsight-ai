{
 "cells": [
  {
   "cell_type": "markdown",
   "metadata": {},
   "source": [
    "Create graphs and insights based on the charts. \n",
    "This can be done in Python with the MatPlotLib library. This task is done to help understand the relations within the data. \n",
    "We are doing the ML part in Java, but just for the graphs we can just use Python. \n",
    "DataVisualization.java\n"
   ]
  },
  {
   "cell_type": "markdown",
   "metadata": {},
   "source": []
  },
  {
   "cell_type": "markdown",
   "metadata": {},
   "source": []
  },
  {
   "cell_type": "code",
   "execution_count": null,
   "metadata": {},
   "outputs": [],
   "source": []
  }
 ],
 "metadata": {
  "language_info": {
   "name": "python"
  }
 },
 "nbformat": 4,
 "nbformat_minor": 2
}
