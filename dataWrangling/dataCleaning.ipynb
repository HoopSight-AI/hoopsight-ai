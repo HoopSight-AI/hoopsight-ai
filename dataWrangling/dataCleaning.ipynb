{
 "cells": [
  {
   "cell_type": "markdown",
   "metadata": {},
   "source": [
    "Data Cleaning: Make sure the columns and stats are clearly visible, and also that everything is the same amount of decimal places. There should be no missing values. Decide how to handle outliers, and encoding any non-numerical attributes.\n",
    "Make sure all these values show up correctly in python. You can write scripts to test for missing values using the Pandas library. \n",
    "After the data is verified with Python, write the script for Java to print out a few rows of the dataset (you don’t have to stick to the WEKA library). \n"
   ]
  }
 ],
 "metadata": {
  "language_info": {
   "name": "python"
  }
 },
 "nbformat": 4,
 "nbformat_minor": 2
}
